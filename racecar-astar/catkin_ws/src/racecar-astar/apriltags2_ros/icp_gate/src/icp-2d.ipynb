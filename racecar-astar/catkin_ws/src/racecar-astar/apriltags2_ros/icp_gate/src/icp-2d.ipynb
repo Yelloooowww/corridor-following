{
 "cells": [
  {
   "cell_type": "markdown",
   "metadata": {},
   "source": [
    "# ICP 2D"
   ]
  },
  {
   "cell_type": "code",
   "execution_count": 1,
   "metadata": {},
   "outputs": [],
   "source": [
    "import numpy as np\n",
    "import matplotlib.pyplot as plt"
   ]
  },
  {
   "cell_type": "markdown",
   "metadata": {},
   "source": [
    "## example data 2D gate & tag points"
   ]
  },
  {
   "cell_type": "code",
   "execution_count": 2,
   "metadata": {
    "scrolled": true
   },
   "outputs": [
    {
     "data": {
      "image/png": "[encoded data removed]",
      "text/plain": [
       "<matplotlib.figure.Figure at 0x7f632063b110>"
      ]
     },
     "metadata": {
      "needs_background": "light"
     },
     "output_type": "display_data"
    }
   ],
   "source": [
    "gate_poses = np.array([[0.501, 1.326],      # tag 4\n",
    "                        [0.4675, 0.2515],    # tag 5\n",
    "                        [0.4835, -1.34]])    # tag 6\n",
    "\n",
    "tag_poses = np.array([[ 4.53256715,  1.32114674],\n",
    "                         [ 4.57090491,  0.29619518],\n",
    "                         [ 4.5174239,  -1.32085923]])\n",
    "\n",
    "plt.scatter(gate_poses[:,0],gate_poses[:,1])\n",
    "plt.scatter(tag_poses[:,0],tag_poses[:,1])\n",
    "plt.show()"
   ]
  },
  {
   "cell_type": "markdown",
   "metadata": {},
   "source": [
    "## steps to find best transform\n",
    "\n",
    "    - find point pairs  ------>  already paired\n",
    "    - compute centroids\n",
    "    - build the correlation matrix H\n",
    "    - estimate rotation matrix R using SVD\n",
    "    - estimate the translation vector t\n",
    "    - build the final transformation matrix T\n",
    "    - transform dataset m using the transform T"
   ]
  },
  {
   "cell_type": "code",
   "execution_count": 3,
   "metadata": {},
   "outputs": [],
   "source": [
    "target = \n",
    "model = "
   ]
  },
  {
   "cell_type": "markdown",
   "metadata": {},
   "source": [
    "### compute centroids\n",
    "    c = (p1+p2+...+pn) / n"
   ]
  },
  {
   "cell_type": "code",
   "execution_count": 4,
   "metadata": {},
   "outputs": [
    {
     "data": {
      "image/png": "[encoded data removed]",
      "text/plain": [
       "<matplotlib.figure.Figure at 0x7f632058d350>"
      ]
     },
     "metadata": {
      "needs_background": "light"
     },
     "output_type": "display_data"
    }
   ],
   "source": [
    "c_target = \n",
    "c_model = \n",
    "\n",
    "plt.scatter(model[:,0],model[:,1])\n",
    "plt.scatter(target[:,0],target[:,1])\n",
    "plt.scatter(c_target[0],c_target[1])\n",
    "plt.scatter(c_model[0],c_model[1])\n",
    "plt.show()"
   ]
  },
  {
   "cell_type": "markdown",
   "metadata": {},
   "source": [
    "### build the correlation matrix H \n",
    "    For H we first have to center/de-mean (move to the origin of the coordinate system) both datasets.\n",
    "    That is subtract the respective centroid from every point in the dataset:\n",
    "\n",
    "    P1d = P1 – Pc = [x1,y1]\n",
    "    P2d = P2 – Pc = [x2,y2]\n",
    "    P3d = P3 – Pc = [x3,y3]\n",
    "    \n",
    "    M = [[x1,x2,x3],\n",
    "         [y1,y2,y3]]\n",
    "    \n",
    "    H = M_model * M_target_transpose"
   ]
  },
  {
   "cell_type": "code",
   "execution_count": 5,
   "metadata": {},
   "outputs": [
    {
     "name": "stdout",
     "output_type": "stream",
     "text": [
      "[[ -6.25001415e-04   1.82327037e-02]\n",
      " [  2.80976696e-02   3.57281349e+00]]\n"
     ]
    }
   ],
   "source": [
    "m_target = \n",
    "m_model =  \n",
    "\n",
    "# calculate correlation matrix\n",
    "H = \n",
    "\n",
    "print H"
   ]
  },
  {
   "cell_type": "markdown",
   "metadata": {},
   "source": [
    "### estimate rotation matrix R using SVD\n",
    "    [U, D, V] = SVD(H)\n",
    "    Finally R can be computed as following:\n",
    "    R = U * V\n",
    "    \n",
    "    - numpy SVD: https://docs.scipy.org/doc/numpy-1.13.0/reference/generated/numpy.linalg.svd.html\n",
    "    "
   ]
  },
  {
   "cell_type": "code",
   "execution_count": 6,
   "metadata": {},
   "outputs": [
    {
     "name": "stdout",
     "output_type": "stream",
     "text": [
      "[[-0.99991596  0.01296412]\n",
      " [ 0.01296412  0.99991596]]\n"
     ]
    }
   ],
   "source": [
    "U, D, V = \n",
    "\n",
    "rotation = \n",
    "\n",
    "print rotation"
   ]
  },
  {
   "cell_type": "markdown",
   "metadata": {},
   "source": [
    "### estimate the translation vector t\n",
    "    P_model_centroid = rotation * P_target_centroid + translation\n",
    "   \n",
    "    translation = P_model_centroid - rotation * P_target_centroid\n",
    "    "
   ]
  },
  {
   "cell_type": "code",
   "execution_count": 7,
   "metadata": {},
   "outputs": [
    {
     "name": "stdout",
     "output_type": "stream",
     "text": [
      "[ 5.02263588 -0.07851356]\n"
     ]
    }
   ],
   "source": [
    "translation = \n",
    "print translation"
   ]
  },
  {
   "cell_type": "markdown",
   "metadata": {},
   "source": [
    "### build the final transformation matrix T\n",
    "    T = [R t'\n",
    "         0 1]\n",
    "    \n",
    "    T = [[ R11 R12 T1 ]\n",
    "         [ R21 R22 T2 ]\n",
    "         [ 0   0   1  ]]"
   ]
  },
  {
   "cell_type": "code",
   "execution_count": 8,
   "metadata": {},
   "outputs": [
    {
     "name": "stdout",
     "output_type": "stream",
     "text": [
      "[[-0.99991596  0.01296412  5.02263588]\n",
      " [ 0.01296412  0.99991596 -0.07851356]\n",
      " [ 0.          0.          1.        ]]\n"
     ]
    }
   ],
   "source": [
    "transform = \n",
    "print transform"
   ]
  },
  {
   "cell_type": "markdown",
   "metadata": {},
   "source": [
    "### transform dataset m using the transform T\n",
    "    new_target_P[i] = translation + roataion*target_P[i]\n",
    "    "
   ]
  },
  {
   "cell_type": "code",
   "execution_count": 9,
   "metadata": {},
   "outputs": [
    {
     "data": {
      "image/png": "[encoded data removed]",
      "text/plain": [
       "<matplotlib.figure.Figure at 0x7f63205ed390>"
      ]
     },
     "metadata": {
      "needs_background": "light"
     },
     "output_type": "display_data"
    }
   ],
   "source": [
    "# transform every target point using translation and rotation to fit model\n",
    "\n",
    "\n",
    "plt.scatter(model[:,0],model[:,1])\n",
    "plt.scatter(target[:,0],target[:,1])\n",
    "plt.show()"
   ]
  },
  {
   "cell_type": "markdown",
   "metadata": {},
   "source": [
    "### combine best fit transform"
   ]
  },
  {
   "cell_type": "code",
   "execution_count": 10,
   "metadata": {},
   "outputs": [],
   "source": [
    "def best_fit_transform( model, target):\n",
    "        ################## student implement ##################\n",
    "\n",
    "        # calculate centroid\n",
    "        c_target = \n",
    "        c_model = \n",
    "\n",
    "        # de mean\n",
    "        m_target = \n",
    "        m_model =  \n",
    "\n",
    "        # calculate correlation matrix\n",
    "        H = \n",
    "\n",
    "\n",
    "        # SVD decompose\n",
    "        U, D, V = \n",
    "\n",
    "        # get Rotation & Translation\n",
    "        rotation = \n",
    "        translation = \n",
    "\n",
    "        # combine matrix\n",
    "        transform = \n",
    "        ################## student implement ##################\n",
    "\n",
    "        return transform"
   ]
  },
  {
   "cell_type": "markdown",
   "metadata": {},
   "source": [
    "### ICP"
   ]
  },
  {
   "cell_type": "code",
   "execution_count": 11,
   "metadata": {},
   "outputs": [
    {
     "name": "stdout",
     "output_type": "stream",
     "text": [
      "transform:\n",
      "[[  1.00000000e+00   4.71844785e-16  -6.10622664e-16]\n",
      " [ -3.60822483e-16   1.00000000e+00   1.94289029e-16]\n",
      " [  0.00000000e+00   0.00000000e+00   1.00000000e+00]]\n",
      "l2:0.038191\n"
     ]
    },
    {
     "data": {
      "image/png": "[encoded data removed]",
      "text/plain": [
       "<matplotlib.figure.Figure at 0x7f6320526cd0>"
      ]
     },
     "metadata": {
      "needs_background": "light"
     },
     "output_type": "display_data"
    },
    {
     "name": "stdout",
     "output_type": "stream",
     "text": [
      "transform:\n",
      "[[  1.00000000e+00  -3.42607887e-16   1.66533454e-16]\n",
      " [  1.20563282e-16   1.00000000e+00   4.16333634e-17]\n",
      " [  0.00000000e+00   0.00000000e+00   1.00000000e+00]]\n",
      "l2:0.038191\n"
     ]
    },
    {
     "data": {
      "image/png": "[encoded data removed]",
      "text/plain": [
       "<matplotlib.figure.Figure at 0x7f63203f7610>"
      ]
     },
     "metadata": {
      "needs_background": "light"
     },
     "output_type": "display_data"
    },
    {
     "name": "stdout",
     "output_type": "stream",
     "text": [
      "transform:\n",
      "[[  1.00000000e+00  -8.67361738e-18   1.11022302e-16]\n",
      " [ -1.03216047e-16   1.00000000e+00   1.38777878e-16]\n",
      " [  0.00000000e+00   0.00000000e+00   1.00000000e+00]]\n",
      "l2:0.038191\n"
     ]
    },
    {
     "data": {
      "image/png": "[encoded data removed]",
      "text/plain": [
       "<matplotlib.figure.Figure at 0x7f632037cbd0>"
      ]
     },
     "metadata": {
      "needs_background": "light"
     },
     "output_type": "display_data"
    },
    {
     "name": "stdout",
     "output_type": "stream",
     "text": [
      "transform:\n",
      "[[  1.00000000e+00   4.53630189e-16  -1.66533454e-16]\n",
      " [ -2.31585584e-16   1.00000000e+00   1.38777878e-17]\n",
      " [  0.00000000e+00   0.00000000e+00   1.00000000e+00]]\n",
      "l2:0.038191\n"
     ]
    },
    {
     "data": {
      "image/png": "[encoded data removed]",
      "text/plain": [
       "<matplotlib.figure.Figure at 0x7f63202f6d10>"
      ]
     },
     "metadata": {
      "needs_background": "light"
     },
     "output_type": "display_data"
    },
    {
     "name": "stdout",
     "output_type": "stream",
     "text": [
      "total tf:\n",
      "[[  1.00000000e+00   5.74193471e-16  -4.99600361e-16]\n",
      " [ -5.75060832e-16   1.00000000e+00   3.88578059e-16]\n",
      " [  0.00000000e+00   0.00000000e+00   1.00000000e+00]]\n"
     ]
    }
   ],
   "source": [
    "total_tf = np.identity(tag_poses.shape[0])\n",
    "for iteration in range(4):\n",
    "    transform = best_fit_transform(gate_poses,tag_poses)\n",
    "    print'transform:'\n",
    "    print transform\n",
    "    total_tf = np.dot(transform,total_tf)\n",
    "    \n",
    "    for i in range(tag_poses.shape[0]):\n",
    "        tag_poses[i] = transform[0:2, 2] + np.matmul(transform[0:2, 0:2], tag_poses[i])\n",
    "        \n",
    "    print'l2:%f'%np.linalg.norm(gate_poses-tag_poses)\n",
    "    plt.scatter(gate_poses[:,0],gate_poses[:,1])\n",
    "    plt.scatter(tag_poses[:,0],tag_poses[:,1])\n",
    "    plt.show()\n",
    "\n",
    "print 'total tf:'\n",
    "print total_tf"
   ]
  }
 ],
 "metadata": {
  "kernelspec": {
   "display_name": "Python 2",
   "language": "python",
   "name": "python2"
  },
  "language_info": {
   "codemirror_mode": {
    "name": "ipython",
    "version": 2
   },
   "file_extension": ".py",
   "mimetype": "text/x-python",
   "name": "python",
   "nbconvert_exporter": "python",
   "pygments_lexer": "ipython2",
   "version": "2.7.17"
  }
 },
 "nbformat": 4,
 "nbformat_minor": 2
}
